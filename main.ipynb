{
  "cells": [
    {
      "cell_type": "code",
      "execution_count": 1,
      "metadata": {
        "colab": {
          "base_uri": "https://localhost:8080/"
        },
        "id": "wWx43oR3kzXV",
        "outputId": "346b6c1a-8c4d-483c-d21f-ecae78a8c350"
      },
      "outputs": [
        {
          "name": "stdout",
          "output_type": "stream",
          "text": [
            "Requirement already satisfied: pillow in c:\\users\\fenris\\appdata\\local\\packages\\pythonsoftwarefoundation.python.3.9_qbz5n2kfra8p0\\localcache\\local-packages\\python39\\site-packages (8.4.0)\n",
            "Requirement already satisfied: scikit-image in c:\\users\\fenris\\appdata\\local\\packages\\pythonsoftwarefoundation.python.3.9_qbz5n2kfra8p0\\localcache\\local-packages\\python39\\site-packages (0.18.3)\n",
            "Requirement already satisfied: tqdm in c:\\users\\fenris\\appdata\\local\\packages\\pythonsoftwarefoundation.python.3.9_qbz5n2kfra8p0\\localcache\\local-packages\\python39\\site-packages (4.62.3)\n",
            "Requirement already satisfied: numpy in c:\\users\\fenris\\appdata\\local\\packages\\pythonsoftwarefoundation.python.3.9_qbz5n2kfra8p0\\localcache\\local-packages\\python39\\site-packages (1.21.4)\n",
            "Requirement already satisfied: opencv-python in c:\\users\\fenris\\appdata\\local\\packages\\pythonsoftwarefoundation.python.3.9_qbz5n2kfra8p0\\localcache\\local-packages\\python39\\site-packages (4.5.4.60)\n",
            "Requirement already satisfied: trimesh in c:\\users\\fenris\\appdata\\local\\packages\\pythonsoftwarefoundation.python.3.9_qbz5n2kfra8p0\\localcache\\local-packages\\python39\\site-packages (3.9.35)\n",
            "Collecting pyexr\n",
            "  Using cached PyEXR-0.3.10.tar.gz (4.6 kB)\n",
            "  Preparing metadata (setup.py): started\n",
            "  Preparing metadata (setup.py): finished with status 'done'\n",
            "Requirement already satisfied: tifffile>=2019.7.26 in c:\\users\\fenris\\appdata\\local\\packages\\pythonsoftwarefoundation.python.3.9_qbz5n2kfra8p0\\localcache\\local-packages\\python39\\site-packages (from scikit-image) (2021.11.2)\n",
            "Requirement already satisfied: imageio>=2.3.0 in c:\\users\\fenris\\appdata\\local\\packages\\pythonsoftwarefoundation.python.3.9_qbz5n2kfra8p0\\localcache\\local-packages\\python39\\site-packages (from scikit-image) (2.13.0)\n",
            "Requirement already satisfied: matplotlib!=3.0.0,>=2.0.0 in c:\\users\\fenris\\appdata\\local\\packages\\pythonsoftwarefoundation.python.3.9_qbz5n2kfra8p0\\localcache\\local-packages\\python39\\site-packages (from scikit-image) (3.5.0)\n",
            "Requirement already satisfied: scipy>=1.0.1 in c:\\users\\fenris\\appdata\\local\\packages\\pythonsoftwarefoundation.python.3.9_qbz5n2kfra8p0\\localcache\\local-packages\\python39\\site-packages (from scikit-image) (1.7.3)\n",
            "Requirement already satisfied: networkx>=2.0 in c:\\users\\fenris\\appdata\\local\\packages\\pythonsoftwarefoundation.python.3.9_qbz5n2kfra8p0\\localcache\\local-packages\\python39\\site-packages (from scikit-image) (2.6.3)\n",
            "Requirement already satisfied: PyWavelets>=1.1.1 in c:\\users\\fenris\\appdata\\local\\packages\\pythonsoftwarefoundation.python.3.9_qbz5n2kfra8p0\\localcache\\local-packages\\python39\\site-packages (from scikit-image) (1.2.0)\n",
            "Requirement already satisfied: colorama in c:\\users\\fenris\\appdata\\local\\packages\\pythonsoftwarefoundation.python.3.9_qbz5n2kfra8p0\\localcache\\local-packages\\python39\\site-packages (from tqdm) (0.4.4)\n",
            "Requirement already satisfied: setuptools in c:\\program files\\windowsapps\\pythonsoftwarefoundation.python.3.9_3.9.2544.0_x64__qbz5n2kfra8p0\\lib\\site-packages (from trimesh) (58.1.0)\n",
            "Collecting OpenEXR\n",
            "  Using cached OpenEXR-1.3.2.tar.gz (10 kB)\n",
            "  Preparing metadata (setup.py): started\n",
            "  Preparing metadata (setup.py): finished with status 'done'\n",
            "Collecting future\n",
            "  Using cached future-0.18.2.tar.gz (829 kB)\n",
            "  Preparing metadata (setup.py): started\n",
            "  Preparing metadata (setup.py): finished with status 'done'\n",
            "Requirement already satisfied: fonttools>=4.22.0 in c:\\users\\fenris\\appdata\\local\\packages\\pythonsoftwarefoundation.python.3.9_qbz5n2kfra8p0\\localcache\\local-packages\\python39\\site-packages (from matplotlib!=3.0.0,>=2.0.0->scikit-image) (4.28.2)\n",
            "Requirement already satisfied: kiwisolver>=1.0.1 in c:\\users\\fenris\\appdata\\local\\packages\\pythonsoftwarefoundation.python.3.9_qbz5n2kfra8p0\\localcache\\local-packages\\python39\\site-packages (from matplotlib!=3.0.0,>=2.0.0->scikit-image) (1.3.2)\n",
            "Requirement already satisfied: cycler>=0.10 in c:\\users\\fenris\\appdata\\local\\packages\\pythonsoftwarefoundation.python.3.9_qbz5n2kfra8p0\\localcache\\local-packages\\python39\\site-packages (from matplotlib!=3.0.0,>=2.0.0->scikit-image) (0.11.0)\n",
            "Requirement already satisfied: packaging>=20.0 in c:\\users\\fenris\\appdata\\local\\packages\\pythonsoftwarefoundation.python.3.9_qbz5n2kfra8p0\\localcache\\local-packages\\python39\\site-packages (from matplotlib!=3.0.0,>=2.0.0->scikit-image) (21.3)\n",
            "Requirement already satisfied: pyparsing>=2.2.1 in c:\\users\\fenris\\appdata\\local\\packages\\pythonsoftwarefoundation.python.3.9_qbz5n2kfra8p0\\localcache\\local-packages\\python39\\site-packages (from matplotlib!=3.0.0,>=2.0.0->scikit-image) (3.0.6)\n",
            "Requirement already satisfied: setuptools-scm>=4 in c:\\users\\fenris\\appdata\\local\\packages\\pythonsoftwarefoundation.python.3.9_qbz5n2kfra8p0\\localcache\\local-packages\\python39\\site-packages (from matplotlib!=3.0.0,>=2.0.0->scikit-image) (6.3.2)\n",
            "Requirement already satisfied: python-dateutil>=2.7 in c:\\users\\fenris\\appdata\\local\\packages\\pythonsoftwarefoundation.python.3.9_qbz5n2kfra8p0\\localcache\\local-packages\\python39\\site-packages (from matplotlib!=3.0.0,>=2.0.0->scikit-image) (2.8.2)\n",
            "Requirement already satisfied: six>=1.5 in c:\\users\\fenris\\appdata\\local\\packages\\pythonsoftwarefoundation.python.3.9_qbz5n2kfra8p0\\localcache\\local-packages\\python39\\site-packages (from python-dateutil>=2.7->matplotlib!=3.0.0,>=2.0.0->scikit-image) (1.16.0)\n",
            "Requirement already satisfied: tomli>=1.0.0 in c:\\users\\fenris\\appdata\\local\\packages\\pythonsoftwarefoundation.python.3.9_qbz5n2kfra8p0\\localcache\\local-packages\\python39\\site-packages (from setuptools-scm>=4->matplotlib!=3.0.0,>=2.0.0->scikit-image) (1.2.2)\n",
            "Using legacy 'setup.py install' for pyexr, since package 'wheel' is not installed.\n",
            "Using legacy 'setup.py install' for future, since package 'wheel' is not installed.\n",
            "Using legacy 'setup.py install' for OpenEXR, since package 'wheel' is not installed.\n",
            "Installing collected packages: OpenEXR, future, pyexr\n",
            "    Running setup.py install for OpenEXR: started\n",
            "    Running setup.py install for OpenEXR: finished with status 'error'\n"
          ]
        },
        {
          "name": "stderr",
          "output_type": "stream",
          "text": [
            "    ERROR: Command errored out with exit status 1:\n",
            "     command: 'C:\\Users\\Fenris\\AppData\\Local\\Microsoft\\WindowsApps\\PythonSoftwareFoundation.Python.3.9_qbz5n2kfra8p0\\python.exe' -u -c 'import io, os, sys, setuptools, tokenize; sys.argv[0] = '\"'\"'C:\\\\Users\\\\Fenris\\\\AppData\\\\Local\\\\Temp\\\\pip-install-gfcuwm2i\\\\openexr_3176fb73ffa94f368288129579c41c87\\\\setup.py'\"'\"'; __file__='\"'\"'C:\\\\Users\\\\Fenris\\\\AppData\\\\Local\\\\Temp\\\\pip-install-gfcuwm2i\\\\openexr_3176fb73ffa94f368288129579c41c87\\\\setup.py'\"'\"';f = getattr(tokenize, '\"'\"'open'\"'\"', open)(__file__) if os.path.exists(__file__) else io.StringIO('\"'\"'from setuptools import setup; setup()'\"'\"');code = f.read().replace('\"'\"'\\r\\n'\"'\"', '\"'\"'\\n'\"'\"');f.close();exec(compile(code, __file__, '\"'\"'exec'\"'\"'))' install --record 'C:\\Users\\Fenris\\AppData\\Local\\Temp\\pip-record-z940zr6v\\install-record.txt' --single-version-externally-managed --user --prefix= --compile --install-headers 'C:\\Users\\Fenris\\AppData\\Local\\Packages\\PythonSoftwareFoundation.Python.3.9_qbz5n2kfra8p0\\LocalCache\\local-packages\\Python39\\Include\\OpenEXR'\n",
            "         cwd: C:\\Users\\Fenris\\AppData\\Local\\Temp\\pip-install-gfcuwm2i\\openexr_3176fb73ffa94f368288129579c41c87\\\n",
            "    Complete output (9 lines):\n",
            "    running install\n",
            "    running build\n",
            "    running build_py\n",
            "    creating build\n",
            "    creating build\\lib.win-amd64-3.9\n",
            "    copying Imath.py -> build\\lib.win-amd64-3.9\n",
            "    running build_ext\n",
            "    building 'OpenEXR' extension\n",
            "    error: Microsoft Visual C++ 14.0 or greater is required. Get it with \"Microsoft C++ Build Tools\": https://visualstudio.microsoft.com/visual-cpp-build-tools/\n",
            "    ----------------------------------------\n",
            "ERROR: Command errored out with exit status 1: 'C:\\Users\\Fenris\\AppData\\Local\\Microsoft\\WindowsApps\\PythonSoftwareFoundation.Python.3.9_qbz5n2kfra8p0\\python.exe' -u -c 'import io, os, sys, setuptools, tokenize; sys.argv[0] = '\"'\"'C:\\\\Users\\\\Fenris\\\\AppData\\\\Local\\\\Temp\\\\pip-install-gfcuwm2i\\\\openexr_3176fb73ffa94f368288129579c41c87\\\\setup.py'\"'\"'; __file__='\"'\"'C:\\\\Users\\\\Fenris\\\\AppData\\\\Local\\\\Temp\\\\pip-install-gfcuwm2i\\\\openexr_3176fb73ffa94f368288129579c41c87\\\\setup.py'\"'\"';f = getattr(tokenize, '\"'\"'open'\"'\"', open)(__file__) if os.path.exists(__file__) else io.StringIO('\"'\"'from setuptools import setup; setup()'\"'\"');code = f.read().replace('\"'\"'\\r\\n'\"'\"', '\"'\"'\\n'\"'\"');f.close();exec(compile(code, __file__, '\"'\"'exec'\"'\"'))' install --record 'C:\\Users\\Fenris\\AppData\\Local\\Temp\\pip-record-z940zr6v\\install-record.txt' --single-version-externally-managed --user --prefix= --compile --install-headers 'C:\\Users\\Fenris\\AppData\\Local\\Packages\\PythonSoftwareFoundation.Python.3.9_qbz5n2kfra8p0\\LocalCache\\local-packages\\Python39\\Include\\OpenEXR' Check the logs for full command output.\n"
          ]
        }
      ],
      "source": [
        "! pip install pillow scikit-image tqdm numpy opencv-python trimesh pyexr"
      ]
    },
    {
      "cell_type": "code",
      "execution_count": null,
      "metadata": {
        "colab": {
          "base_uri": "https://localhost:8080/"
        },
        "id": "M9Az9CQpTT8_",
        "outputId": "968088d4-18a0-41b0-e283-5265bd26fb97"
      },
      "outputs": [
        {
          "name": "stdout",
          "output_type": "stream",
          "text": [
            "Cloning into 'PIFu'...\n",
            "remote: Enumerating objects: 211, done.\u001b[K\n",
            "remote: Counting objects: 100% (4/4), done.\u001b[K\n",
            "remote: Compressing objects: 100% (4/4), done.\u001b[K\n",
            "remote: Total 211 (delta 0), reused 1 (delta 0), pack-reused 207\u001b[K\n",
            "Receiving objects: 100% (211/211), 2.43 MiB | 13.73 MiB/s, done.\n",
            "Resolving deltas: 100% (86/86), done.\n"
          ]
        }
      ],
      "source": [
        "!git clone https://github.com/shunsukesaito/PIFu.git"
      ]
    },
    {
      "cell_type": "code",
      "execution_count": 3,
      "metadata": {
        "colab": {
          "base_uri": "https://localhost:8080/"
        },
        "id": "k3jjm6HuQRk8",
        "outputId": "9212283a-47a9-4580-ee71-f89af3e325a2"
      },
      "outputs": [
        {
          "name": "stderr",
          "output_type": "stream",
          "text": [
            "+ mkdir -p checkpoints\n",
            "+ cd checkpoints\n",
            "+ wget 'https://drive.google.com/uc?export=download&id=1zEmVXG2VHy0MMzngcRshB4D8Sr_oLHsm' -O net_G\n",
            "./scripts/download_trained_model.sh: line 5: wget: command not found\n"
          ]
        }
      ],
      "source": [
        "!sh ./scripts/download_trained_model.sh"
      ]
    },
    {
      "cell_type": "code",
      "execution_count": null,
      "metadata": {
        "id": "Fd2D32FHT9S8"
      },
      "outputs": [],
      "source": [
        "!python /content/PIFu/apps/crop_img.py -i /content/test_02.png -o /content/PIFu/sample_images"
      ]
    },
    {
      "cell_type": "code",
      "execution_count": null,
      "metadata": {
        "colab": {
          "base_uri": "https://localhost:8080/"
        },
        "id": "5995t2PnQTmG",
        "outputId": "79f6b3d9-5e44-4708-dc33-f3aea4302746"
      },
      "outputs": [
        {
          "name": "stdout",
          "output_type": "stream",
          "text": [
            "+ GPU_ID=0\n",
            "+ DISPLAY_ID=10\n",
            "+ NAME=pifu_demo\n",
            "+ BATCH_SIZE=1\n",
            "+ MLP_DIM=257 1024 512 256 128 1\n",
            "+ MLP_DIM_COLOR=513 1024 512 256 128 3\n",
            "+ VOL_RES=512\n",
            "+ CHECKPOINTS_NETG_PATH=./checkpoints/net_G\n",
            "+ CHECKPOINTS_NETC_PATH=./checkpoints/net_C\n",
            "+ TEST_FOLDER_PATH=./sample_images\n",
            "+ CUDA_VISIBLE_DEVICES=0 python ./apps/eval.py --name pifu_demo --batch_size 1 --mlp_dim 257 1024 512 256 128 1 --mlp_dim_color 513 1024 512 256 128 3 --num_stack 4 --num_hourglass 2 --resolution 512 --hg_down ave_pool --norm group --norm_color group --test_folder_path ./sample_images --load_netG_checkpoint_path ./checkpoints/net_G --load_netC_checkpoint_path ./checkpoints/net_C\n",
            "initialize network with normal\n",
            "Using Network:  hgpifu\n",
            "loading for net C ... ./checkpoints/net_C\n",
            "initialize network with normal\n",
            "num;  4\n",
            "0it [00:00, ?it/s]./sample_images/test_03.png ./sample_images/test_03_mask.png\n",
            "tcmalloc: large alloc 3221225472 bytes == 0x55d36b5b0000 @  0x7efcb6fea1e7 0x7efcb495846e 0x7efcb49a8c7b 0x7efcb49a935f 0x7efcb4a4b103 0x55d30c6f3544 0x55d30c6f3240 0x55d30c767627 0x55d30c7619ee 0x55d30c6f4bda 0x55d30c766d00 0x55d30c6f6b6b 0x55d30c7379c9 0x55d30c73793c 0x55d30c7db409 0x55d30c762e7a 0x55d30c7619ee 0x55d30c6f4bda 0x55d30c763737 0x55d30c761ced 0x55d30c6f4bda 0x55d30c763737 0x55d30c7619ee 0x55d30c6f4bda 0x55d30c763737 0x55d30c7619ee 0x55d30c6f4bda 0x55d30c762c0d 0x55d30c7619ee 0x55d30c7616f3 0x55d30c82b4c2\n",
            "tcmalloc: large alloc 3221225472 bytes == 0x55d46bdb0000 @  0x7efcb6fea1e7 0x7efcb495846e 0x7efcb49a8c7b 0x7efcb49a8d18 0x7efcb4a646fb 0x7efcb4a679fa 0x7efcb4b8f9ba 0x7efcb4b90516 0x55d30c6f3c52 0x55d30c7674d9 0x55d30c7619ee 0x55d30c6f4bda 0x55d30c763737 0x55d30c761ced 0x55d30c6f4bda 0x55d30c763737 0x55d30c7619ee 0x55d30c6f4bda 0x55d30c763737 0x55d30c7619ee 0x55d30c6f4bda 0x55d30c762c0d 0x55d30c7619ee 0x55d30c7616f3 0x55d30c82b4c2 0x55d30c82b83d 0x55d30c82b6e6 0x55d30c803163 0x55d30c802e0c 0x7efcb5dd4bf7 0x55d30c802cea\n",
            "tcmalloc: large alloc 3221225472 bytes == 0x55d52bdb0000 @  0x7efcb6fea1e7 0x7efcb495846e 0x7efcb49a8c7b 0x7efcb49a8d18 0x7efcb4a64d79 0x7efcb4a67add 0x7efcb4b8f9ba 0x7efcb4b90516 0x55d30c6f3c52 0x55d30c7674d9 0x55d30c7619ee 0x55d30c6f4bda 0x55d30c763737 0x55d30c761ced 0x55d30c6f4bda 0x55d30c763737 0x55d30c7619ee 0x55d30c6f4bda 0x55d30c763737 0x55d30c7619ee 0x55d30c6f4bda 0x55d30c762c0d 0x55d30c7619ee 0x55d30c7616f3 0x55d30c82b4c2 0x55d30c82b83d 0x55d30c82b6e6 0x55d30c803163 0x55d30c802e0c 0x7efcb5dd4bf7 0x55d30c802cea\n",
            "tcmalloc: large alloc 3221225472 bytes == 0x55d46bdb0000 @  0x7efcb6fea1e7 0x7efcb495846e 0x7efcb49a8c7b 0x7efcb49a8d18 0x7efcb4a64d79 0x7efcb4a67e4c 0x7efcb4b86e7f 0x7efcb4b8cfb5 0x7efcb4b8ee3d 0x7efcb4b90516 0x55d30c6f4720 0x55d30c6f42f9 0x7efcb4a6f00b 0x55d30c7dbd31 0x55d30c763320 0x55d30c7619ee 0x55d30c6f4bda 0x55d30c763737 0x55d30c761ced 0x55d30c6f4bda 0x55d30c763737 0x55d30c7619ee 0x55d30c6f4bda 0x55d30c763737 0x55d30c7619ee 0x55d30c6f4bda 0x55d30c762c0d 0x55d30c7619ee 0x55d30c7616f3 0x55d30c82b4c2 0x55d30c82b83d\n",
            "/content/PIFu/lib/mesh_util.py:45: FutureWarning: marching_cubes_lewiner is deprecated in favor of marching_cubes. marching_cubes_lewiner will be removed in version 0.19\n",
            "  verts, faces, normals, values = measure.marching_cubes_lewiner(sdf, 0.5)\n",
            "1it [00:49, 49.73s/it]./sample_images/ryota.png ./sample_images/ryota_mask.png\n",
            "tcmalloc: large alloc 3221225472 bytes == 0x55d36b5b0000 @  0x7efcb6fea1e7 0x7efcb495846e 0x7efcb49a8c7b 0x7efcb49a935f 0x7efcb4a4b103 0x55d30c6f3544 0x55d30c6f3240 0x55d30c767627 0x55d30c7619ee 0x55d30c6f4bda 0x55d30c766d00 0x55d30c6f6b6b 0x55d30c7379c9 0x55d30c73793c 0x55d30c7db409 0x55d30c762e7a 0x55d30c7619ee 0x55d30c6f4bda 0x55d30c763737 0x55d30c761ced 0x55d30c6f4bda 0x55d30c763737 0x55d30c7619ee 0x55d30c6f4bda 0x55d30c763737 0x55d30c7619ee 0x55d30c6f4bda 0x55d30c762c0d 0x55d30c7619ee 0x55d30c7616f3 0x55d30c82b4c2\n",
            "tcmalloc: large alloc 3221225472 bytes == 0x55d46bdb0000 @  0x7efcb6fea1e7 0x7efcb495846e 0x7efcb49a8c7b 0x7efcb49a8d18 0x7efcb4a646fb 0x7efcb4a679fa 0x7efcb4b8f9ba 0x7efcb4b90516 0x55d30c6f3c52 0x55d30c7674d9 0x55d30c7619ee 0x55d30c6f4bda 0x55d30c763737 0x55d30c761ced 0x55d30c6f4bda 0x55d30c763737 0x55d30c7619ee 0x55d30c6f4bda 0x55d30c763737 0x55d30c7619ee 0x55d30c6f4bda 0x55d30c762c0d 0x55d30c7619ee 0x55d30c7616f3 0x55d30c82b4c2 0x55d30c82b83d 0x55d30c82b6e6 0x55d30c803163 0x55d30c802e0c 0x7efcb5dd4bf7 0x55d30c802cea\n",
            "tcmalloc: large alloc 3221225472 bytes == 0x55d52bdb0000 @  0x7efcb6fea1e7 0x7efcb495846e 0x7efcb49a8c7b 0x7efcb49a8d18 0x7efcb4a64d79 0x7efcb4a67add 0x7efcb4b8f9ba 0x7efcb4b90516 0x55d30c6f3c52 0x55d30c7674d9 0x55d30c7619ee 0x55d30c6f4bda 0x55d30c763737 0x55d30c761ced 0x55d30c6f4bda 0x55d30c763737 0x55d30c7619ee 0x55d30c6f4bda 0x55d30c763737 0x55d30c7619ee 0x55d30c6f4bda 0x55d30c762c0d 0x55d30c7619ee 0x55d30c7616f3 0x55d30c82b4c2 0x55d30c82b83d 0x55d30c82b6e6 0x55d30c803163 0x55d30c802e0c 0x7efcb5dd4bf7 0x55d30c802cea\n",
            "tcmalloc: large alloc 3221225472 bytes == 0x55d46bdb0000 @  0x7efcb6fea1e7 0x7efcb495846e 0x7efcb49a8c7b 0x7efcb49a8d18 0x7efcb4a64d79 0x7efcb4a67e4c 0x7efcb4b86e7f 0x7efcb4b8cfb5 0x7efcb4b8ee3d 0x7efcb4b90516 0x55d30c6f4720 0x55d30c6f42f9 0x7efcb4a6f00b 0x55d30c7dbd31 0x55d30c763320 0x55d30c7619ee 0x55d30c6f4bda 0x55d30c763737 0x55d30c761ced 0x55d30c6f4bda 0x55d30c763737 0x55d30c7619ee 0x55d30c6f4bda 0x55d30c763737 0x55d30c7619ee 0x55d30c6f4bda 0x55d30c762c0d 0x55d30c7619ee 0x55d30c7616f3 0x55d30c82b4c2 0x55d30c82b83d\n",
            "2it [01:30, 44.60s/it]./sample_images/test_02.png ./sample_images/test_02_mask.png\n",
            "tcmalloc: large alloc 3221225472 bytes == 0x55d36b5b0000 @  0x7efcb6fea1e7 0x7efcb495846e 0x7efcb49a8c7b 0x7efcb49a935f 0x7efcb4a4b103 0x55d30c6f3544 0x55d30c6f3240 0x55d30c767627 0x55d30c7619ee 0x55d30c6f4bda 0x55d30c766d00 0x55d30c6f6b6b 0x55d30c7379c9 0x55d30c73793c 0x55d30c7db409 0x55d30c762e7a 0x55d30c7619ee 0x55d30c6f4bda 0x55d30c763737 0x55d30c761ced 0x55d30c6f4bda 0x55d30c763737 0x55d30c7619ee 0x55d30c6f4bda 0x55d30c763737 0x55d30c7619ee 0x55d30c6f4bda 0x55d30c762c0d 0x55d30c7619ee 0x55d30c7616f3 0x55d30c82b4c2\n",
            "tcmalloc: large alloc 3221225472 bytes == 0x55d46bdb0000 @  0x7efcb6fea1e7 0x7efcb495846e 0x7efcb49a8c7b 0x7efcb49a8d18 0x7efcb4a646fb 0x7efcb4a679fa 0x7efcb4b8f9ba 0x7efcb4b90516 0x55d30c6f3c52 0x55d30c7674d9 0x55d30c7619ee 0x55d30c6f4bda 0x55d30c763737 0x55d30c761ced 0x55d30c6f4bda 0x55d30c763737 0x55d30c7619ee 0x55d30c6f4bda 0x55d30c763737 0x55d30c7619ee 0x55d30c6f4bda 0x55d30c762c0d 0x55d30c7619ee 0x55d30c7616f3 0x55d30c82b4c2 0x55d30c82b83d 0x55d30c82b6e6 0x55d30c803163 0x55d30c802e0c 0x7efcb5dd4bf7 0x55d30c802cea\n",
            "3it [02:10, 42.45s/it]./sample_images/test_01.png ./sample_images/test_01_mask.png\n",
            "4it [02:52, 43.00s/it]\n"
          ]
        }
      ],
      "source": [
        "!cd PIFu && sh /content/PIFu/scripts/test.sh"
      ]
    }
  ],
  "metadata": {
    "accelerator": "GPU",
    "colab": {
      "collapsed_sections": [],
      "name": "main",
      "provenance": []
    },
    "kernelspec": {
      "display_name": "Python 3",
      "name": "python3"
    },
    "language_info": {
      "codemirror_mode": {
        "name": "ipython",
        "version": 3
      },
      "file_extension": ".py",
      "mimetype": "text/x-python",
      "name": "python",
      "nbconvert_exporter": "python",
      "pygments_lexer": "ipython3",
      "version": "3.9.9"
    }
  },
  "nbformat": 4,
  "nbformat_minor": 0
}
