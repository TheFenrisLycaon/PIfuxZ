{
  "cells": [
    {
      "cell_type": "code",
      "execution_count": null,
      "metadata": {
        "colab": {
          "base_uri": "https://localhost:8080/"
        },
        "id": "wWx43oR3kzXV",
        "outputId": "346b6c1a-8c4d-483c-d21f-ecae78a8c350"
      },
      "outputs": [],
      "source": [
        "! pip -r requirements.txt"
      ]
    },
    {
      "cell_type": "code",
      "execution_count": null,
      "metadata": {
        "colab": {
          "base_uri": "https://localhost:8080/"
        },
        "id": "M9Az9CQpTT8_",
        "outputId": "968088d4-18a0-41b0-e283-5265bd26fb97"
      },
      "outputs": [],
      "source": [
        "!git clone https://github.com/TheFenrisLycaon/PIfuxZ.git"
      ]
    },
    {
      "cell_type": "code",
      "execution_count": null,
      "metadata": {
        "colab": {
          "base_uri": "https://localhost:8080/"
        },
        "id": "k3jjm6HuQRk8",
        "outputId": "9212283a-47a9-4580-ee71-f89af3e325a2"
      },
      "outputs": [],
      "source": [
        "!sh ./scripts/download_trained_model.sh"
      ]
    },
    {
      "cell_type": "code",
      "execution_count": null,
      "metadata": {
        "id": "Fd2D32FHT9S8"
      },
      "outputs": [],
      "source": [
        "!python /content/PiFuxZ/apps/crop_img.py -i /content/test_02.png -o /content/PiFuxZ/sample_images"
      ]
    },
    {
      "cell_type": "code",
      "execution_count": null,
      "metadata": {
        "colab": {
          "base_uri": "https://localhost:8080/"
        },
        "id": "5995t2PnQTmG",
        "outputId": "79f6b3d9-5e44-4708-dc33-f3aea4302746"
      },
      "outputs": [],
      "source": [
        "!cd PiFuxZ && sh /content/PiFuxZ/scripts/test.sh"
      ]
    }
  ],
  "metadata": {
    "accelerator": "GPU",
    "colab": {
      "collapsed_sections": [],
      "name": "main",
      "provenance": []
    },
    "kernelspec": {
      "display_name": "Python 3",
      "name": "python3"
    },
    "language_info": {
      "codemirror_mode": {
        "name": "ipython",
        "version": 3
      },
      "file_extension": ".py",
      "mimetype": "text/x-python",
      "name": "python",
      "nbconvert_exporter": "python",
      "pygments_lexer": "ipython3",
      "version": "3.9.9"
    }
  },
  "nbformat": 4,
  "nbformat_minor": 0
}
